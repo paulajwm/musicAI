{
 "cells": [
  {
   "cell_type": "markdown",
   "metadata": {},
   "source": [
    "# Velocity normalization\n",
    "\n",
    "We normalize velocities in the Bodhidharma dataset to get rid of a mismatch with respect to the training distribution.\n",
    "\n",
    "The histogram plotting takes a bit long and may be skipped."
   ]
  },
  {
   "cell_type": "code",
   "metadata": {
    "ExecuteTime": {
     "end_time": "2025-05-03T14:23:00.824415Z",
     "start_time": "2025-05-03T14:23:00.749538Z"
    }
   },
   "source": [
    "import itertools\n",
    "import os\n",
    "\n",
    "import matplotlib.pyplot as plt\n",
    "from museflow.io.note_sequence_io import NoteSequenceDB\n",
    "from museflow.note_sequence_utils import filter_sequence\n",
    "import numpy as np\n",
    "import scipy"
   ],
   "outputs": [],
   "execution_count": 6
  },
  {
   "cell_type": "code",
   "metadata": {
    "ExecuteTime": {
     "end_time": "2025-05-03T14:23:07.253448Z",
     "start_time": "2025-05-03T14:23:07.241062Z"
    }
   },
   "source": [
    "DATASET_DIR = 'bodhidharma/final'\n",
    "TRAIN_DB = 'synth/train/final/all.db'"
   ],
   "outputs": [],
   "execution_count": 7
  },
  {
   "cell_type": "markdown",
   "metadata": {},
   "source": [
    "## Compute velocity statistics on training data"
   ]
  },
  {
   "cell_type": "code",
   "metadata": {
    "ExecuteTime": {
     "end_time": "2025-05-03T14:26:50.419329Z",
     "start_time": "2025-05-03T14:23:12.568453Z"
    }
   },
   "source": [
    "velocities_train = []\n",
    "with NoteSequenceDB(TRAIN_DB) as db, db.begin() as txn:\n",
    "    for _, seq in txn.items():\n",
    "        velocities_train.extend(n.velocity for n in seq.notes)"
   ],
   "outputs": [],
   "execution_count": 8
  },
  {
   "cell_type": "code",
   "metadata": {
    "ExecuteTime": {
     "end_time": "2025-05-03T14:30:06.911850Z",
     "start_time": "2025-05-03T14:29:57.289642Z"
    }
   },
   "source": [
    "train_stats = scipy.stats.describe(velocities_train)\n",
    "train_stats"
   ],
   "outputs": [
    {
     "data": {
      "text/plain": [
       "DescribeResult(nobs=71799353, minmax=(1, 127), mean=64.25399574283072, variance=432.9165195560093, skewness=0.19585816884222212, kurtosis=-0.06955028101708605)"
      ]
     },
     "execution_count": 9,
     "metadata": {},
     "output_type": "execute_result"
    }
   ],
   "execution_count": 9
  },
  {
   "cell_type": "code",
   "metadata": {
    "ExecuteTime": {
     "start_time": "2025-05-03T14:00:10.218460Z"
    }
   },
   "source": [
    "plt.hist(velocities_train, bins=np.linspace(0, 128, 129))\n",
    "plt.show()"
   ],
   "outputs": [
    {
     "name": "stderr",
     "output_type": "stream",
     "text": [
      "\n",
      "KeyboardInterrupt\n",
      "\n"
     ]
    },
    {
     "data": {
      "text/plain": [
       "<Figure size 432x288 with 1 Axes>"
      ],
      "image/png": "[encoded data removed]"
     },
     "metadata": {
      "needs_background": "light"
     },
     "output_type": "display_data"
    }
   ],
   "execution_count": 5
  },
  {
   "cell_type": "markdown",
   "metadata": {},
   "source": [
    "## Compute the same statistics on the Bodhidharma dataset"
   ]
  },
  {
   "cell_type": "code",
   "metadata": {
    "ExecuteTime": {
     "end_time": "2025-05-03T14:30:44.802485Z",
     "start_time": "2025-05-03T14:30:42.559257Z"
    }
   },
   "source": [
    "velocities_bodh = []\n",
    "with NoteSequenceDB(os.path.join(DATASET_DIR, 'all.db')) as db, db.begin() as txn:\n",
    "    for _, seq in txn.items():\n",
    "        velocities_bodh.extend(n.velocity for n in seq.notes)"
   ],
   "outputs": [
    {
     "ename": "Error",
     "evalue": "bodhidharma/final\\all.db: El sistema no puede encontrar la ruta especificada.\r\n",
     "output_type": "error",
     "traceback": [
      "\u001B[1;31m---------------------------------------------------------------------------\u001B[0m",
      "\u001B[1;31mError\u001B[0m                                     Traceback (most recent call last)",
      "\u001B[1;32m<ipython-input-10-78dbd0bfa913>\u001B[0m in \u001B[0;36m<module>\u001B[1;34m\u001B[0m\n\u001B[0;32m      1\u001B[0m \u001B[0mvelocities_bodh\u001B[0m \u001B[1;33m=\u001B[0m \u001B[1;33m[\u001B[0m\u001B[1;33m]\u001B[0m\u001B[1;33m\u001B[0m\u001B[1;33m\u001B[0m\u001B[0m\n\u001B[1;32m----> 2\u001B[1;33m \u001B[1;32mwith\u001B[0m \u001B[0mNoteSequenceDB\u001B[0m\u001B[1;33m(\u001B[0m\u001B[0mos\u001B[0m\u001B[1;33m.\u001B[0m\u001B[0mpath\u001B[0m\u001B[1;33m.\u001B[0m\u001B[0mjoin\u001B[0m\u001B[1;33m(\u001B[0m\u001B[0mDATASET_DIR\u001B[0m\u001B[1;33m,\u001B[0m \u001B[1;34m'all.db'\u001B[0m\u001B[1;33m)\u001B[0m\u001B[1;33m)\u001B[0m \u001B[1;32mas\u001B[0m \u001B[0mdb\u001B[0m\u001B[1;33m,\u001B[0m \u001B[0mdb\u001B[0m\u001B[1;33m.\u001B[0m\u001B[0mbegin\u001B[0m\u001B[1;33m(\u001B[0m\u001B[1;33m)\u001B[0m \u001B[1;32mas\u001B[0m \u001B[0mtxn\u001B[0m\u001B[1;33m:\u001B[0m\u001B[1;33m\u001B[0m\u001B[1;33m\u001B[0m\u001B[0m\n\u001B[0m\u001B[0;32m      3\u001B[0m     \u001B[1;32mfor\u001B[0m \u001B[0m_\u001B[0m\u001B[1;33m,\u001B[0m \u001B[0mseq\u001B[0m \u001B[1;32min\u001B[0m \u001B[0mtxn\u001B[0m\u001B[1;33m.\u001B[0m\u001B[0mitems\u001B[0m\u001B[1;33m(\u001B[0m\u001B[1;33m)\u001B[0m\u001B[1;33m:\u001B[0m\u001B[1;33m\u001B[0m\u001B[1;33m\u001B[0m\u001B[0m\n\u001B[0;32m      4\u001B[0m         \u001B[0mvelocities_bodh\u001B[0m\u001B[1;33m.\u001B[0m\u001B[0mextend\u001B[0m\u001B[1;33m(\u001B[0m\u001B[0mn\u001B[0m\u001B[1;33m.\u001B[0m\u001B[0mvelocity\u001B[0m \u001B[1;32mfor\u001B[0m \u001B[0mn\u001B[0m \u001B[1;32min\u001B[0m \u001B[0mseq\u001B[0m\u001B[1;33m.\u001B[0m\u001B[0mnotes\u001B[0m\u001B[1;33m)\u001B[0m\u001B[1;33m\u001B[0m\u001B[1;33m\u001B[0m\u001B[0m\n",
      "\u001B[1;32m~\\anaconda3\\envs\\groove2groove\\lib\\site-packages\\museflow\\io\\note_sequence_io.py\u001B[0m in \u001B[0;36m__enter__\u001B[1;34m(self)\u001B[0m\n\u001B[0;32m     20\u001B[0m         \u001B[1;32mif\u001B[0m \u001B[0mself\u001B[0m\u001B[1;33m.\u001B[0m\u001B[0mdb\u001B[0m \u001B[1;32mis\u001B[0m \u001B[1;32mnot\u001B[0m \u001B[1;32mNone\u001B[0m\u001B[1;33m:\u001B[0m\u001B[1;33m\u001B[0m\u001B[1;33m\u001B[0m\u001B[0m\n\u001B[0;32m     21\u001B[0m             \u001B[1;32mraise\u001B[0m \u001B[0mRuntimeError\u001B[0m\u001B[1;33m(\u001B[0m\u001B[1;34m'Database already open'\u001B[0m\u001B[1;33m)\u001B[0m\u001B[1;33m\u001B[0m\u001B[1;33m\u001B[0m\u001B[0m\n\u001B[1;32m---> 22\u001B[1;33m         \u001B[0mself\u001B[0m\u001B[1;33m.\u001B[0m\u001B[0mdb\u001B[0m \u001B[1;33m=\u001B[0m \u001B[0mlmdb\u001B[0m\u001B[1;33m.\u001B[0m\u001B[0mEnvironment\u001B[0m\u001B[1;33m(\u001B[0m\u001B[1;33m**\u001B[0m\u001B[0mself\u001B[0m\u001B[1;33m.\u001B[0m\u001B[0m_db_kwargs\u001B[0m\u001B[1;33m)\u001B[0m\u001B[1;33m\u001B[0m\u001B[1;33m\u001B[0m\u001B[0m\n\u001B[0m\u001B[0;32m     23\u001B[0m         \u001B[1;32mreturn\u001B[0m \u001B[0mself\u001B[0m\u001B[1;33m\u001B[0m\u001B[1;33m\u001B[0m\u001B[0m\n\u001B[0;32m     24\u001B[0m \u001B[1;33m\u001B[0m\u001B[0m\n",
      "\u001B[1;31mError\u001B[0m: bodhidharma/final\\all.db: El sistema no puede encontrar la ruta especificada.\r\n"
     ]
    }
   ],
   "execution_count": 10
  },
  {
   "cell_type": "code",
   "execution_count": null,
   "metadata": {},
   "outputs": [],
   "source": [
    "bodh_stats = scipy.stats.describe(velocities_bodh)\n",
    "bodh_stats"
   ]
  },
  {
   "cell_type": "code",
   "execution_count": null,
   "metadata": {},
   "outputs": [],
   "source": [
    "plt.hist(velocities_bodh, bins=np.linspace(0, 128, 129))\n",
    "plt.show()"
   ]
  },
  {
   "cell_type": "markdown",
   "metadata": {},
   "source": [
    "## Normalize velocities and check the new statistics"
   ]
  },
  {
   "cell_type": "code",
   "execution_count": null,
   "metadata": {},
   "outputs": [],
   "source": [
    "os.makedirs(os.path.join(DATASET_DIR, 'vel_norm_biab'))"
   ]
  },
  {
   "cell_type": "code",
   "execution_count": null,
   "metadata": {},
   "outputs": [],
   "source": [
    "velocities_norm = []\n",
    "with NoteSequenceDB(os.path.join(DATASET_DIR, 'all.db')) as db, db.begin() as txn, \\\n",
    "     NoteSequenceDB(os.path.join(DATASET_DIR, 'vel_norm_biab', 'all.db'), write=True,\n",
    "                    map_size=2 * db.db.info()['map_size']) as db_out, db_out.begin() as txn_out:\n",
    "    for key, seq in txn.items():\n",
    "        seq_velocities = np.array([n.velocity for n in seq.notes])\n",
    "        seq_velocities = seq_velocities - np.mean(seq_velocities)\n",
    "        if np.std(seq_velocities) > 0:\n",
    "            seq_velocities *= np.sqrt(train_stats.variance) / np.std(seq_velocities)\n",
    "        seq_velocities += train_stats.mean\n",
    "        seq_velocities = np.rint(seq_velocities).astype(np.int32)\n",
    "        np.clip(seq_velocities, 1, 127, out=seq_velocities)\n",
    "        for note, velocity in zip(seq.notes, seq_velocities):\n",
    "            note.velocity = velocity\n",
    "        txn_out.put(key, seq)\n",
    "        velocities_norm.extend(seq_velocities)"
   ]
  },
  {
   "cell_type": "code",
   "execution_count": null,
   "metadata": {},
   "outputs": [],
   "source": [
    "scipy.stats.describe(velocities_norm)"
   ]
  },
  {
   "cell_type": "code",
   "execution_count": null,
   "metadata": {},
   "outputs": [],
   "source": [
    "plt.hist(velocities_train, density=True, bins=np.linspace(0, 128, 129), alpha=0.7)\n",
    "plt.hist(velocities_norm, density=True, bins=np.linspace(0, 128, 129), alpha=0.7)\n",
    "plt.show()"
   ]
  },
  {
   "cell_type": "code",
   "execution_count": null,
   "metadata": {},
   "outputs": [],
   "source": [
    "plt.hist(velocities_train, density=True, bins=np.linspace(0, 128, 9), alpha=0.7)\n",
    "plt.hist(velocities_norm, density=True, bins=np.linspace(0, 128, 9), alpha=0.7)\n",
    "plt.show()"
   ]
  },
  {
   "cell_type": "markdown",
   "metadata": {},
   "source": [
    "## Filter out drums"
   ]
  },
  {
   "cell_type": "code",
   "execution_count": null,
   "metadata": {},
   "outputs": [],
   "source": [
    "with NoteSequenceDB(os.path.join(DATASET_DIR, 'vel_norm_biab', 'all.db')) as db, db.begin() as txn, \\\n",
    "     NoteSequenceDB(os.path.join(DATASET_DIR, 'vel_norm_biab', 'all_except_drums.db'), write=True,\n",
    "                    map_size=2 * db.db.info()['map_size']) as db_out, db_out.begin() as txn_out:\n",
    "    for key, seq in txn.items():\n",
    "        filter_sequence(seq, drums=False)\n",
    "        txn_out.put(key, seq)"
   ]
  },
  {
   "cell_type": "code",
   "execution_count": null,
   "metadata": {},
   "outputs": [],
   "source": []
  }
 ],
 "metadata": {
  "kernelspec": {
   "display_name": "Python 3",
   "language": "python",
   "name": "python3"
  },
  "language_info": {
   "codemirror_mode": {
    "name": "ipython",
    "version": 3
   },
   "file_extension": ".py",
   "mimetype": "text/x-python",
   "name": "python",
   "nbconvert_exporter": "python",
   "pygments_lexer": "ipython3",
   "version": "3.6.13"
  }
 },
 "nbformat": 4,
 "nbformat_minor": 4
}
